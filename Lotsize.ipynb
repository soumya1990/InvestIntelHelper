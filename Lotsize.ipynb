{
 "cells": [
  {
   "cell_type": "markdown",
   "id": "3c35657d",
   "metadata": {},
   "source": [
    "## When data Changes, \n",
    "1. Download and save the csv data in path \"dataset/lotsize.csv\".\n",
    "2. Run this notebook and this will save the \n",
    "##"
   ]
  },
  {
   "cell_type": "markdown",
   "id": "d57ba653",
   "metadata": {},
   "source": [
    "Convert CSV to json and store it in a file called lotsize.json"
   ]
  },
  {
   "cell_type": "code",
   "execution_count": 1,
   "id": "61a3b9b8",
   "metadata": {},
   "outputs": [],
   "source": [
    "import pandas as pd\n",
    "\n",
    "CSV_LOT_PATH = \"dataset/lotsize.csv\"\n",
    "\n",
    "JSON_LOT_PATH = \"dataset/lotsize.json\"\n",
    "\n",
    "# Read CSV file into a pandas DataFrame\n",
    "df = pd.read_csv(CSV_LOT_PATH)\n",
    "\n",
    "# Convert DataFrame to JSON\n",
    "json_output = df.to_json(orient=\"records\")\n",
    "\n",
    "# print(json_output)\n",
    "\n",
    "with open(JSON_LOT_PATH, \"w\") as json_file:\n",
    "    json_file.write(json_output)\n",
    "\n"
   ]
  },
  {
   "cell_type": "code",
   "execution_count": 2,
   "id": "a0938605",
   "metadata": {},
   "outputs": [],
   "source": [
    "import json\n",
    "\n",
    "def remove_spaces_json(file_path):\n",
    "    \"\"\"Removes spaces from keys and objects in a JSON array in a file.\"\"\"\n",
    "\n",
    "    with open(file_path, 'r') as file:\n",
    "        data = json.load(file)\n",
    "\n",
    "    if isinstance(data, list):  # Handle JSON arrays\n",
    "        object_data = []\n",
    "        for item in data:\n",
    "            new_item = remove_spaces_dict(item)\n",
    "            object_data.append(new_item)\n",
    "        data = object_data\n",
    "    else:\n",
    "        data = remove_spaces_dict(data)  # Handle JSON objects\n",
    "\n",
    "    with open(file_path, 'w') as file:\n",
    "        json.dump(data, file, indent=4)\n",
    "\n",
    "\n",
    "def remove_spaces_dict(d):\n",
    "    \"\"\"Removes spaces from keys and values in a nested dictionary.\"\"\"\n",
    "\n",
    "    new_dict = {}\n",
    "    for key, value in d.items():\n",
    "        new_key = key.replace(\" \", \"\")\n",
    "        if isinstance(value, dict):\n",
    "            new_value = remove_spaces_dict(value)\n",
    "        elif isinstance(value, list):\n",
    "            new_value = remove_spaces_list(value)\n",
    "        else:\n",
    "            new_value = str(value).replace(\" \", \"\")\n",
    "        new_dict[new_key] = new_value\n",
    "    return new_dict\n",
    "\n",
    "\n",
    "def remove_spaces_list(l):\n",
    "    \"\"\"Removes spaces from elements in a list.\"\"\"\n",
    "\n",
    "    new_list = []\n",
    "    for item in l:\n",
    "        if isinstance(item, dict):\n",
    "            new_item = remove_spaces_dict(item)\n",
    "        elif isinstance(item, list):\n",
    "            new_item = remove_spaces_list(item)\n",
    "        else:\n",
    "            new_item = str(item).replace(\" \", \"\")\n",
    "        new_list.append(new_item)\n",
    "    return new_list"
   ]
  },
  {
   "cell_type": "markdown",
   "id": "e318f089",
   "metadata": {},
   "source": [
    "1. Remove the spaces from JSON Key and value"
   ]
  },
  {
   "cell_type": "code",
   "execution_count": 3,
   "id": "60a2d029",
   "metadata": {},
   "outputs": [],
   "source": [
    "remove_spaces_json(JSON_LOT_PATH)"
   ]
  },
  {
   "cell_type": "code",
   "execution_count": 5,
   "id": "0162066c",
   "metadata": {},
   "outputs": [],
   "source": [
    "\n",
    "with open(JSON_LOT_PATH, 'r') as file:\n",
    "        data = json.load(file)\n",
    "\n",
    "for element in data:\n",
    "    keys = list(element.keys())\n",
    "    element[\"LOTSIZE\"] = element.pop(keys[2])    \n",
    "    keys_to_remove = keys[3:]\n",
    "    for key in keys_to_remove:\n",
    "        element.pop(key, None)\n",
    "        \n",
    "\n",
    "with open(JSON_LOT_PATH, 'w') as json_file:\n",
    "    json.dump(data, json_file, indent=2)\n",
    "            \n",
    " \n",
    "        "
   ]
  },
  {
   "cell_type": "code",
   "execution_count": null,
   "id": "ab85c764",
   "metadata": {},
   "outputs": [],
   "source": []
  }
 ],
 "metadata": {
  "kernelspec": {
   "display_name": "Python 3 (ipykernel)",
   "language": "python",
   "name": "python3"
  },
  "language_info": {
   "codemirror_mode": {
    "name": "ipython",
    "version": 3
   },
   "file_extension": ".py",
   "mimetype": "text/x-python",
   "name": "python",
   "nbconvert_exporter": "python",
   "pygments_lexer": "ipython3",
   "version": "3.10.6"
  }
 },
 "nbformat": 4,
 "nbformat_minor": 5
}
